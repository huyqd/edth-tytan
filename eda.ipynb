{
 "cells": [
  {
   "cell_type": "code",
   "execution_count": 2,
   "id": "363c57b1",
   "metadata": {},
   "outputs": [
    {
     "name": "stdout",
     "output_type": "stream",
     "text": [
      "Labels dataset shape: (4801, 13)\n",
      "Labels columns: ['frame_id', 'timestamp', 'qw', 'qx', 'qy', 'qz', 'wx_radDs', 'wy_radDs', 'wz_radDs', 'ax_mDs2', 'ay_mDs2', 'az_mDs2', 'system_time_s']\n",
      "\n",
      "Logs dataset shape: (52402, 12)\n",
      "Logs columns: ['timestamp', 'qw', 'qx', 'qy', 'qz', 'wx_radDs', 'wy_radDs', 'wz_radDs', 'ax_mDs2', 'ay_mDs2', 'az_mDs2', 'system_time_s']\n"
     ]
    }
   ],
   "source": [
    "import polars as pl\n",
    "\n",
    "# Load the labels data\n",
    "labels_df = pl.read_csv(\"/Users/h33662/Projects/self/edth/data/labels/Flight1.csv\")\n",
    "\n",
    "# Load the raw logs data\n",
    "logs_df = pl.read_csv(\"/Users/h33662/Projects/self/edth/data/raw/logs/Flight1.csv\")\n",
    "\n",
    "# Display basic information about the datasets\n",
    "print(\"Labels dataset shape:\", labels_df.shape)\n",
    "print(\"Labels columns:\", labels_df.columns)\n",
    "print(\"\\nLogs dataset shape:\", logs_df.shape)\n",
    "print(\"Logs columns:\", logs_df.columns)\n"
   ]
  },
  {
   "cell_type": "code",
   "execution_count": 1,
   "id": "76651f80",
   "metadata": {},
   "outputs": [],
   "source": [
    "import pandas as pd\n",
    "\n",
    "df = pd.read_csv(\"/Users/h33662/Projects/self/edth/data/labels/Flight1.csv\")\n",
    "\n",
    "# timestamp is in microseconds -> seconds as float\n",
    "df[\"timestamp_s\"] = df[\"timestamp\"] / 1e6\n",
    "# relative to first sample\n",
    "df[\"elapsed_from_start_s\"] = df[\"timestamp_s\"] - df.loc[0, \"timestamp_s\"]"
   ]
  },
  {
   "cell_type": "code",
   "execution_count": 4,
   "id": "9c610837",
   "metadata": {},
   "outputs": [
    {
     "data": {
      "text/plain": [
       "40"
      ]
     },
     "execution_count": 4,
     "metadata": {},
     "output_type": "execute_result"
    }
   ],
   "source": [
    "160 - 120"
   ]
  },
  {
   "cell_type": "code",
   "execution_count": 9,
   "id": "79023115",
   "metadata": {},
   "outputs": [
    {
     "data": {
      "text/plain": [
       "0.03333333333333333"
      ]
     },
     "execution_count": 9,
     "metadata": {},
     "output_type": "execute_result"
    }
   ],
   "source": [
    "1 / 30"
   ]
  },
  {
   "cell_type": "code",
   "execution_count": 8,
   "id": "9668a04f",
   "metadata": {},
   "outputs": [
    {
     "data": {
      "text/plain": [
       "<Axes: >"
      ]
     },
     "execution_count": 8,
     "metadata": {},
     "output_type": "execute_result"
    },
    {
     "data": {
      "image/png": "[encoded data removed]",
      "text/plain": [
       "<Figure size 640x480 with 1 Axes>"
      ]
     },
     "metadata": {},
     "output_type": "display_data"
    }
   ],
   "source": [
    "df[\"timestamp\"].div(1e6).diff().hist(bins=50)"
   ]
  },
  {
   "cell_type": "code",
   "execution_count": 3,
   "id": "89a7514a",
   "metadata": {},
   "outputs": [
    {
     "name": "stdout",
     "output_type": "stream",
     "text": [
      "\n",
      "First 5 rows of labels:\n",
      "shape: (5, 13)\n",
      "┌──────────┬───────────┬───────────┬───────────┬───┬───────────┬───────────┬───────────┬───────────┐\n",
      "│ frame_id ┆ timestamp ┆ qw        ┆ qx        ┆ … ┆ ax_mDs2   ┆ ay_mDs2   ┆ az_mDs2   ┆ system_ti │\n",
      "│ ---      ┆ ---       ┆ ---       ┆ ---       ┆   ┆ ---       ┆ ---       ┆ ---       ┆ me_s      │\n",
      "│ i64      ┆ i64       ┆ f64       ┆ f64       ┆   ┆ f64       ┆ f64       ┆ f64       ┆ ---       │\n",
      "│          ┆           ┆           ┆           ┆   ┆           ┆           ┆           ┆ f64       │\n",
      "╞══════════╪═══════════╪═══════════╪═══════════╪═══╪═══════════╪═══════════╪═══════════╪═══════════╡\n",
      "│ 0        ┆ 202612660 ┆ 0.994456  ┆ -0.03862  ┆ … ┆ 2.018621  ┆ -0.685786 ┆ -8.26015  ┆ 2015.1247 │\n",
      "│          ┆ 9         ┆           ┆           ┆   ┆           ┆           ┆           ┆ 83        │\n",
      "│ 1        ┆ 202616149 ┆ 0.994851  ┆ -0.03864  ┆ … ┆ 1.767868  ┆ -0.738832 ┆ -7.315161 ┆ 2015.1568 │\n",
      "│          ┆ 3         ┆           ┆           ┆   ┆           ┆           ┆           ┆ 34        │\n",
      "│ 2        ┆ 202618899 ┆ 0.995385  ┆ -0.038488 ┆ … ┆ 1.356409  ┆ -0.829007 ┆ -5.797816 ┆ 2015.1888 │\n",
      "│          ┆ 3         ┆           ┆           ┆   ┆           ┆           ┆           ┆ 85        │\n",
      "│ 3        ┆ 202622163 ┆ 0.996127  ┆ -0.038077 ┆ … ┆ 0.8378145 ┆ -0.943933 ┆ -3.8989   ┆ 2015.2209 │\n",
      "│          ┆ 9         ┆           ┆           ┆   ┆           ┆           ┆           ┆ 36        │\n",
      "│ 4        ┆ 202625149 ┆ 0.9967798 ┆ -0.036448 ┆ … ┆ 0.65677   ┆ -0.973704 ┆ -2.85828  ┆ 2015.2529 │\n",
      "│          ┆ 3         ┆           ┆           ┆   ┆           ┆           ┆           ┆ 88        │\n",
      "└──────────┴───────────┴───────────┴───────────┴───┴───────────┴───────────┴───────────┴───────────┘\n"
     ]
    }
   ],
   "source": [
    "# Show first few rows of each dataset\n",
    "print(\"\\nFirst 5 rows of labels:\")\n",
    "print(labels_df.head())\n"
   ]
  },
  {
   "cell_type": "code",
   "execution_count": 5,
   "id": "8e9aa003",
   "metadata": {},
   "outputs": [
    {
     "data": {
      "text/html": [
       "<div><style>\n",
       ".dataframe > thead > tr,\n",
       ".dataframe > tbody > tr {\n",
       "  text-align: right;\n",
       "  white-space: pre-wrap;\n",
       "}\n",
       "</style>\n",
       "<small>shape: (4_801, 13)</small><table border=\"1\" class=\"dataframe\"><thead><tr><th>frame_id</th><th>timestamp</th><th>qw</th><th>qx</th><th>qy</th><th>qz</th><th>wx_radDs</th><th>wy_radDs</th><th>wz_radDs</th><th>ax_mDs2</th><th>ay_mDs2</th><th>az_mDs2</th><th>system_time_s</th></tr><tr><td>i64</td><td>i64</td><td>f64</td><td>f64</td><td>f64</td><td>f64</td><td>f64</td><td>f64</td><td>f64</td><td>f64</td><td>f64</td><td>f64</td><td>f64</td></tr></thead><tbody><tr><td>0</td><td>2026126609</td><td>0.994456</td><td>-0.03862</td><td>0.096379</td><td>-0.016458</td><td>0.059199</td><td>-0.112819</td><td>-0.022404</td><td>2.018621</td><td>-0.685786</td><td>-8.26015</td><td>2015.124783</td></tr><tr><td>1</td><td>2026161493</td><td>0.994851</td><td>-0.03864</td><td>0.091911</td><td>-0.017771</td><td>-0.018418</td><td>-0.400784</td><td>-0.085376</td><td>1.767868</td><td>-0.738832</td><td>-7.315161</td><td>2015.156834</td></tr><tr><td>2</td><td>2026188993</td><td>0.995385</td><td>-0.038488</td><td>0.085481</td><td>-0.019409</td><td>0.028376</td><td>-0.582675</td><td>-0.110315</td><td>1.356409</td><td>-0.829007</td><td>-5.797816</td><td>2015.188885</td></tr><tr><td>3</td><td>2026221639</td><td>0.996127</td><td>-0.038077</td><td>0.076107</td><td>-0.021534</td><td>0.086439</td><td>-0.617606</td><td>-0.118544</td><td>0.8378145</td><td>-0.943933</td><td>-3.8989</td><td>2015.220936</td></tr><tr><td>4</td><td>2026251493</td><td>0.9967798</td><td>-0.036448</td><td>0.067136</td><td>-0.023514</td><td>0.1363434</td><td>-0.550215</td><td>-0.091683</td><td>0.65677</td><td>-0.973704</td><td>-2.85828</td><td>2015.252988</td></tr><tr><td>&hellip;</td><td>&hellip;</td><td>&hellip;</td><td>&hellip;</td><td>&hellip;</td><td>&hellip;</td><td>&hellip;</td><td>&hellip;</td><td>&hellip;</td><td>&hellip;</td><td>&hellip;</td><td>&hellip;</td><td>&hellip;</td></tr><tr><td>4796</td><td>2185893518</td><td>0.833357</td><td>-0.502267</td><td>0.176753</td><td>-0.148086</td><td>0.6208925</td><td>0.366909</td><td>-0.194304</td><td>5.938025</td><td>-0.697129</td><td>-21.633861</td><td>2174.88994</td></tr><tr><td>4797</td><td>2185926225</td><td>0.836058</td><td>-0.495003</td><td>0.178637</td><td>-0.155141</td><td>0.275345</td><td>0.34955</td><td>-0.22804</td><td>6.079145</td><td>-1.194224</td><td>-21.815022</td><td>2174.921732</td></tr><tr><td>4798</td><td>2185963519</td><td>0.832548</td><td>-0.497998</td><td>0.181994</td><td>-0.160367</td><td>-0.4365</td><td>0.3592965</td><td>-0.244363</td><td>6.1183809</td><td>-1.000155</td><td>-22.166763</td><td>2174.953524</td></tr><tr><td>4799</td><td>2185996018</td><td>0.829551</td><td>-0.500104</td><td>0.185323</td><td>-0.165439</td><td>-0.272194</td><td>0.354993</td><td>-0.217283</td><td>6.169094</td><td>-0.482033</td><td>-21.737659</td><td>2174.985316</td></tr><tr><td>4800</td><td>2186013518</td><td>0.828076</td><td>-0.500975</td><td>0.18713</td><td>-0.168157</td><td>0.080097</td><td>0.3535878</td><td>-0.190623</td><td>6.199103</td><td>-0.133137</td><td>-21.343884</td><td>2175.003035</td></tr></tbody></table></div>"
      ],
      "text/plain": [
       "shape: (4_801, 13)\n",
       "┌──────────┬───────────┬───────────┬───────────┬───┬───────────┬───────────┬───────────┬───────────┐\n",
       "│ frame_id ┆ timestamp ┆ qw        ┆ qx        ┆ … ┆ ax_mDs2   ┆ ay_mDs2   ┆ az_mDs2   ┆ system_ti │\n",
       "│ ---      ┆ ---       ┆ ---       ┆ ---       ┆   ┆ ---       ┆ ---       ┆ ---       ┆ me_s      │\n",
       "│ i64      ┆ i64       ┆ f64       ┆ f64       ┆   ┆ f64       ┆ f64       ┆ f64       ┆ ---       │\n",
       "│          ┆           ┆           ┆           ┆   ┆           ┆           ┆           ┆ f64       │\n",
       "╞══════════╪═══════════╪═══════════╪═══════════╪═══╪═══════════╪═══════════╪═══════════╪═══════════╡\n",
       "│ 0        ┆ 202612660 ┆ 0.994456  ┆ -0.03862  ┆ … ┆ 2.018621  ┆ -0.685786 ┆ -8.26015  ┆ 2015.1247 │\n",
       "│          ┆ 9         ┆           ┆           ┆   ┆           ┆           ┆           ┆ 83        │\n",
       "│ 1        ┆ 202616149 ┆ 0.994851  ┆ -0.03864  ┆ … ┆ 1.767868  ┆ -0.738832 ┆ -7.315161 ┆ 2015.1568 │\n",
       "│          ┆ 3         ┆           ┆           ┆   ┆           ┆           ┆           ┆ 34        │\n",
       "│ 2        ┆ 202618899 ┆ 0.995385  ┆ -0.038488 ┆ … ┆ 1.356409  ┆ -0.829007 ┆ -5.797816 ┆ 2015.1888 │\n",
       "│          ┆ 3         ┆           ┆           ┆   ┆           ┆           ┆           ┆ 85        │\n",
       "│ 3        ┆ 202622163 ┆ 0.996127  ┆ -0.038077 ┆ … ┆ 0.8378145 ┆ -0.943933 ┆ -3.8989   ┆ 2015.2209 │\n",
       "│          ┆ 9         ┆           ┆           ┆   ┆           ┆           ┆           ┆ 36        │\n",
       "│ 4        ┆ 202625149 ┆ 0.9967798 ┆ -0.036448 ┆ … ┆ 0.65677   ┆ -0.973704 ┆ -2.85828  ┆ 2015.2529 │\n",
       "│          ┆ 3         ┆           ┆           ┆   ┆           ┆           ┆           ┆ 88        │\n",
       "│ …        ┆ …         ┆ …         ┆ …         ┆ … ┆ …         ┆ …         ┆ …         ┆ …         │\n",
       "│ 4796     ┆ 218589351 ┆ 0.833357  ┆ -0.502267 ┆ … ┆ 5.938025  ┆ -0.697129 ┆ -21.63386 ┆ 2174.8899 │\n",
       "│          ┆ 8         ┆           ┆           ┆   ┆           ┆           ┆ 1         ┆ 4         │\n",
       "│ 4797     ┆ 218592622 ┆ 0.836058  ┆ -0.495003 ┆ … ┆ 6.079145  ┆ -1.194224 ┆ -21.81502 ┆ 2174.9217 │\n",
       "│          ┆ 5         ┆           ┆           ┆   ┆           ┆           ┆ 2         ┆ 32        │\n",
       "│ 4798     ┆ 218596351 ┆ 0.832548  ┆ -0.497998 ┆ … ┆ 6.1183809 ┆ -1.000155 ┆ -22.16676 ┆ 2174.9535 │\n",
       "│          ┆ 9         ┆           ┆           ┆   ┆           ┆           ┆ 3         ┆ 24        │\n",
       "│ 4799     ┆ 218599601 ┆ 0.829551  ┆ -0.500104 ┆ … ┆ 6.169094  ┆ -0.482033 ┆ -21.73765 ┆ 2174.9853 │\n",
       "│          ┆ 8         ┆           ┆           ┆   ┆           ┆           ┆ 9         ┆ 16        │\n",
       "│ 4800     ┆ 218601351 ┆ 0.828076  ┆ -0.500975 ┆ … ┆ 6.199103  ┆ -0.133137 ┆ -21.34388 ┆ 2175.0030 │\n",
       "│          ┆ 8         ┆           ┆           ┆   ┆           ┆           ┆ 4         ┆ 35        │\n",
       "└──────────┴───────────┴───────────┴───────────┴───┴───────────┴───────────┴───────────┴───────────┘"
      ]
     },
     "execution_count": 5,
     "metadata": {},
     "output_type": "execute_result"
    }
   ],
   "source": [
    "labels_df"
   ]
  },
  {
   "cell_type": "code",
   "execution_count": 12,
   "id": "cbb6b37c",
   "metadata": {},
   "outputs": [
    {
     "data": {
      "text/html": [
       "<div><style>\n",
       ".dataframe > thead > tr,\n",
       ".dataframe > tbody > tr {\n",
       "  text-align: right;\n",
       "  white-space: pre-wrap;\n",
       "}\n",
       "</style>\n",
       "<small>shape: (4_801, 2)</small><table border=\"1\" class=\"dataframe\"><thead><tr><th>frame_id</th><th>timestamp</th></tr><tr><td>i64</td><td>i64</td></tr></thead><tbody><tr><td>0</td><td>null</td></tr><tr><td>1</td><td>34884</td></tr><tr><td>2</td><td>27500</td></tr><tr><td>3</td><td>32646</td></tr><tr><td>4</td><td>29854</td></tr><tr><td>&hellip;</td><td>&hellip;</td></tr><tr><td>4796</td><td>32499</td></tr><tr><td>4797</td><td>32707</td></tr><tr><td>4798</td><td>37294</td></tr><tr><td>4799</td><td>32499</td></tr><tr><td>4800</td><td>17500</td></tr></tbody></table></div>"
      ],
      "text/plain": [
       "shape: (4_801, 2)\n",
       "┌──────────┬───────────┐\n",
       "│ frame_id ┆ timestamp │\n",
       "│ ---      ┆ ---       │\n",
       "│ i64      ┆ i64       │\n",
       "╞══════════╪═══════════╡\n",
       "│ 0        ┆ null      │\n",
       "│ 1        ┆ 34884     │\n",
       "│ 2        ┆ 27500     │\n",
       "│ 3        ┆ 32646     │\n",
       "│ 4        ┆ 29854     │\n",
       "│ …        ┆ …         │\n",
       "│ 4796     ┆ 32499     │\n",
       "│ 4797     ┆ 32707     │\n",
       "│ 4798     ┆ 37294     │\n",
       "│ 4799     ┆ 32499     │\n",
       "│ 4800     ┆ 17500     │\n",
       "└──────────┴───────────┘"
      ]
     },
     "execution_count": 12,
     "metadata": {},
     "output_type": "execute_result"
    }
   ],
   "source": [
    "labels_df.select(\"frame_id\", pl.col(\"timestamp\").diff())"
   ]
  },
  {
   "cell_type": "code",
   "execution_count": 8,
   "id": "dcb0d9a1",
   "metadata": {},
   "outputs": [
    {
     "data": {
      "text/html": [
       "<div><style>\n",
       ".dataframe > thead > tr,\n",
       ".dataframe > tbody > tr {\n",
       "  text-align: right;\n",
       "  white-space: pre-wrap;\n",
       "}\n",
       "</style>\n",
       "<small>shape: (52_402, 12)</small><table border=\"1\" class=\"dataframe\"><thead><tr><th>timestamp</th><th>qw</th><th>qx</th><th>qy</th><th>qz</th><th>wx_radDs</th><th>wy_radDs</th><th>wz_radDs</th><th>ax_mDs2</th><th>ay_mDs2</th><th>az_mDs2</th><th>system_time_s</th></tr><tr><td>i64</td><td>f64</td><td>f64</td><td>f64</td><td>f64</td><td>f64</td><td>f64</td><td>f64</td><td>f64</td><td>f64</td><td>f64</td><td>f64</td></tr></thead><tbody><tr><td>2026113998</td><td>0.994335</td><td>-0.039308</td><td>0.097447</td><td>-0.015948</td><td>0.110566</td><td>-0.037882</td><td>0.001889</td><td>2.082521</td><td>-0.685528</td><td>-8.171474</td><td>2015.108757</td></tr><tr><td>2026118992</td><td>0.994349</td><td>-0.039078</td><td>0.097389</td><td>-0.01603</td><td>0.087918</td><td>-0.053981</td><td>-0.003436</td><td>2.069741</td><td>-0.68558</td><td>-8.18921</td><td>2015.111962</td></tr><tr><td>2026121494</td><td>0.994363</td><td>-0.038847</td><td>0.097331</td><td>-0.016113</td><td>0.082132</td><td>-0.067257</td><td>-0.016471</td><td>2.056961</td><td>-0.685631</td><td>-8.206945</td><td>2015.115167</td></tr><tr><td>2026124197</td><td>0.9943765</td><td>-0.038616</td><td>0.097273</td><td>-0.016195</td><td>0.074549</td><td>-0.085173</td><td>-0.016448</td><td>2.044181</td><td>-0.685683</td><td>-8.22468</td><td>2015.118373</td></tr><tr><td>2026126492</td><td>0.994416</td><td>-0.038618</td><td>0.096826</td><td>-0.016326</td><td>0.066967</td><td>-0.10309</td><td>-0.016424</td><td>2.031401</td><td>-0.685735</td><td>-8.242415</td><td>2015.121578</td></tr><tr><td>&hellip;</td><td>&hellip;</td><td>&hellip;</td><td>&hellip;</td><td>&hellip;</td><td>&hellip;</td><td>&hellip;</td><td>&hellip;</td><td>&hellip;</td><td>&hellip;</td><td>&hellip;</td><td>&hellip;</td></tr><tr><td>2186001019</td><td>0.829059</td><td>-0.500394</td><td>0.185925</td><td>-0.166345</td><td>-0.189925</td><td>0.368642</td><td>-0.211584</td><td>6.179097</td><td>-0.365734</td><td>-21.606401</td><td>2174.991096</td></tr><tr><td>2186006016</td><td>0.828813</td><td>-0.50054</td><td>0.186227</td><td>-0.166798</td><td>-0.090134</td><td>0.346892</td><td>-0.200012</td><td>6.184099</td><td>-0.307585</td><td>-21.540771</td><td>2174.993987</td></tr><tr><td>2186008519</td><td>0.828568</td><td>-0.500685</td><td>0.186528</td><td>-0.167251</td><td>-0.049251</td><td>0.352469</td><td>-0.197421</td><td>6.1891</td><td>-0.249435</td><td>-21.475142</td><td>2174.996877</td></tr><tr><td>2186010057</td><td>0.828322</td><td>-0.50083</td><td>0.186829</td><td>-0.167704</td><td>0.015423</td><td>0.353028</td><td>-0.194022</td><td>6.194102</td><td>-0.191286</td><td>-21.409513</td><td>2174.999767</td></tr><tr><td>2186013518</td><td>0.828076</td><td>-0.500975</td><td>0.18713</td><td>-0.168157</td><td>0.080097</td><td>0.3535878</td><td>-0.190623</td><td>6.199103</td><td>-0.133137</td><td>-21.343884</td><td>2175.003035</td></tr></tbody></table></div>"
      ],
      "text/plain": [
       "shape: (52_402, 12)\n",
       "┌────────────┬───────────┬───────────┬──────────┬───┬──────────┬───────────┬───────────┬───────────┐\n",
       "│ timestamp  ┆ qw        ┆ qx        ┆ qy       ┆ … ┆ ax_mDs2  ┆ ay_mDs2   ┆ az_mDs2   ┆ system_ti │\n",
       "│ ---        ┆ ---       ┆ ---       ┆ ---      ┆   ┆ ---      ┆ ---       ┆ ---       ┆ me_s      │\n",
       "│ i64        ┆ f64       ┆ f64       ┆ f64      ┆   ┆ f64      ┆ f64       ┆ f64       ┆ ---       │\n",
       "│            ┆           ┆           ┆          ┆   ┆          ┆           ┆           ┆ f64       │\n",
       "╞════════════╪═══════════╪═══════════╪══════════╪═══╪══════════╪═══════════╪═══════════╪═══════════╡\n",
       "│ 2026113998 ┆ 0.994335  ┆ -0.039308 ┆ 0.097447 ┆ … ┆ 2.082521 ┆ -0.685528 ┆ -8.171474 ┆ 2015.1087 │\n",
       "│            ┆           ┆           ┆          ┆   ┆          ┆           ┆           ┆ 57        │\n",
       "│ 2026118992 ┆ 0.994349  ┆ -0.039078 ┆ 0.097389 ┆ … ┆ 2.069741 ┆ -0.68558  ┆ -8.18921  ┆ 2015.1119 │\n",
       "│            ┆           ┆           ┆          ┆   ┆          ┆           ┆           ┆ 62        │\n",
       "│ 2026121494 ┆ 0.994363  ┆ -0.038847 ┆ 0.097331 ┆ … ┆ 2.056961 ┆ -0.685631 ┆ -8.206945 ┆ 2015.1151 │\n",
       "│            ┆           ┆           ┆          ┆   ┆          ┆           ┆           ┆ 67        │\n",
       "│ 2026124197 ┆ 0.9943765 ┆ -0.038616 ┆ 0.097273 ┆ … ┆ 2.044181 ┆ -0.685683 ┆ -8.22468  ┆ 2015.1183 │\n",
       "│            ┆           ┆           ┆          ┆   ┆          ┆           ┆           ┆ 73        │\n",
       "│ 2026126492 ┆ 0.994416  ┆ -0.038618 ┆ 0.096826 ┆ … ┆ 2.031401 ┆ -0.685735 ┆ -8.242415 ┆ 2015.1215 │\n",
       "│            ┆           ┆           ┆          ┆   ┆          ┆           ┆           ┆ 78        │\n",
       "│ …          ┆ …         ┆ …         ┆ …        ┆ … ┆ …        ┆ …         ┆ …         ┆ …         │\n",
       "│ 2186001019 ┆ 0.829059  ┆ -0.500394 ┆ 0.185925 ┆ … ┆ 6.179097 ┆ -0.365734 ┆ -21.60640 ┆ 2174.9910 │\n",
       "│            ┆           ┆           ┆          ┆   ┆          ┆           ┆ 1         ┆ 96        │\n",
       "│ 2186006016 ┆ 0.828813  ┆ -0.50054  ┆ 0.186227 ┆ … ┆ 6.184099 ┆ -0.307585 ┆ -21.54077 ┆ 2174.9939 │\n",
       "│            ┆           ┆           ┆          ┆   ┆          ┆           ┆ 1         ┆ 87        │\n",
       "│ 2186008519 ┆ 0.828568  ┆ -0.500685 ┆ 0.186528 ┆ … ┆ 6.1891   ┆ -0.249435 ┆ -21.47514 ┆ 2174.9968 │\n",
       "│            ┆           ┆           ┆          ┆   ┆          ┆           ┆ 2         ┆ 77        │\n",
       "│ 2186010057 ┆ 0.828322  ┆ -0.50083  ┆ 0.186829 ┆ … ┆ 6.194102 ┆ -0.191286 ┆ -21.40951 ┆ 2174.9997 │\n",
       "│            ┆           ┆           ┆          ┆   ┆          ┆           ┆ 3         ┆ 67        │\n",
       "│ 2186013518 ┆ 0.828076  ┆ -0.500975 ┆ 0.18713  ┆ … ┆ 6.199103 ┆ -0.133137 ┆ -21.34388 ┆ 2175.0030 │\n",
       "│            ┆           ┆           ┆          ┆   ┆          ┆           ┆ 4         ┆ 35        │\n",
       "└────────────┴───────────┴───────────┴──────────┴───┴──────────┴───────────┴───────────┴───────────┘"
      ]
     },
     "execution_count": 8,
     "metadata": {},
     "output_type": "execute_result"
    }
   ],
   "source": [
    "logs_df"
   ]
  },
  {
   "cell_type": "code",
   "execution_count": 4,
   "id": "de5bf5ab",
   "metadata": {},
   "outputs": [
    {
     "name": "stdout",
     "output_type": "stream",
     "text": [
      "\n",
      "First 5 rows of logs:\n",
      "shape: (5, 12)\n",
      "┌────────────┬───────────┬───────────┬──────────┬───┬──────────┬───────────┬───────────┬───────────┐\n",
      "│ timestamp  ┆ qw        ┆ qx        ┆ qy       ┆ … ┆ ax_mDs2  ┆ ay_mDs2   ┆ az_mDs2   ┆ system_ti │\n",
      "│ ---        ┆ ---       ┆ ---       ┆ ---      ┆   ┆ ---      ┆ ---       ┆ ---       ┆ me_s      │\n",
      "│ i64        ┆ f64       ┆ f64       ┆ f64      ┆   ┆ f64      ┆ f64       ┆ f64       ┆ ---       │\n",
      "│            ┆           ┆           ┆          ┆   ┆          ┆           ┆           ┆ f64       │\n",
      "╞════════════╪═══════════╪═══════════╪══════════╪═══╪══════════╪═══════════╪═══════════╪═══════════╡\n",
      "│ 2026113998 ┆ 0.994335  ┆ -0.039308 ┆ 0.097447 ┆ … ┆ 2.082521 ┆ -0.685528 ┆ -8.171474 ┆ 2015.1087 │\n",
      "│            ┆           ┆           ┆          ┆   ┆          ┆           ┆           ┆ 57        │\n",
      "│ 2026118992 ┆ 0.994349  ┆ -0.039078 ┆ 0.097389 ┆ … ┆ 2.069741 ┆ -0.68558  ┆ -8.18921  ┆ 2015.1119 │\n",
      "│            ┆           ┆           ┆          ┆   ┆          ┆           ┆           ┆ 62        │\n",
      "│ 2026121494 ┆ 0.994363  ┆ -0.038847 ┆ 0.097331 ┆ … ┆ 2.056961 ┆ -0.685631 ┆ -8.206945 ┆ 2015.1151 │\n",
      "│            ┆           ┆           ┆          ┆   ┆          ┆           ┆           ┆ 67        │\n",
      "│ 2026124197 ┆ 0.9943765 ┆ -0.038616 ┆ 0.097273 ┆ … ┆ 2.044181 ┆ -0.685683 ┆ -8.22468  ┆ 2015.1183 │\n",
      "│            ┆           ┆           ┆          ┆   ┆          ┆           ┆           ┆ 73        │\n",
      "│ 2026126492 ┆ 0.994416  ┆ -0.038618 ┆ 0.096826 ┆ … ┆ 2.031401 ┆ -0.685735 ┆ -8.242415 ┆ 2015.1215 │\n",
      "│            ┆           ┆           ┆          ┆   ┆          ┆           ┆           ┆ 78        │\n",
      "└────────────┴───────────┴───────────┴──────────┴───┴──────────┴───────────┴───────────┴───────────┘\n"
     ]
    }
   ],
   "source": [
    "print(\"\\nFirst 5 rows of logs:\")\n",
    "print(logs_df.head())"
   ]
  },
  {
   "cell_type": "code",
   "execution_count": 10,
   "id": "abe0e2dd",
   "metadata": {},
   "outputs": [
    {
     "data": {
      "text/html": [
       "<div><style>\n",
       ".dataframe > thead > tr,\n",
       ".dataframe > tbody > tr {\n",
       "  text-align: right;\n",
       "  white-space: pre-wrap;\n",
       "}\n",
       "</style>\n",
       "<small>shape: (4_801, 24)</small><table border=\"1\" class=\"dataframe\"><thead><tr><th>frame_id</th><th>timestamp</th><th>qw</th><th>qx</th><th>qy</th><th>qz</th><th>wx_radDs</th><th>wy_radDs</th><th>wz_radDs</th><th>ax_mDs2</th><th>ay_mDs2</th><th>az_mDs2</th><th>system_time_s</th><th>qw_right</th><th>qx_right</th><th>qy_right</th><th>qz_right</th><th>wx_radDs_right</th><th>wy_radDs_right</th><th>wz_radDs_right</th><th>ax_mDs2_right</th><th>ay_mDs2_right</th><th>az_mDs2_right</th><th>system_time_s_right</th></tr><tr><td>i64</td><td>i64</td><td>f64</td><td>f64</td><td>f64</td><td>f64</td><td>f64</td><td>f64</td><td>f64</td><td>f64</td><td>f64</td><td>f64</td><td>f64</td><td>f64</td><td>f64</td><td>f64</td><td>f64</td><td>f64</td><td>f64</td><td>f64</td><td>f64</td><td>f64</td><td>f64</td><td>f64</td></tr></thead><tbody><tr><td>0</td><td>2026126609</td><td>0.994456</td><td>-0.03862</td><td>0.096379</td><td>-0.016458</td><td>0.059199</td><td>-0.112819</td><td>-0.022404</td><td>2.018621</td><td>-0.685786</td><td>-8.26015</td><td>2015.124783</td><td>0.994456</td><td>-0.03862</td><td>0.096379</td><td>-0.016458</td><td>0.059199</td><td>-0.112819</td><td>-0.022404</td><td>2.018621</td><td>-0.685786</td><td>-8.26015</td><td>2015.124783</td></tr><tr><td>1</td><td>2026161493</td><td>0.994851</td><td>-0.03864</td><td>0.091911</td><td>-0.017771</td><td>-0.018418</td><td>-0.400784</td><td>-0.085376</td><td>1.767868</td><td>-0.738832</td><td>-7.315161</td><td>2015.156834</td><td>0.994851</td><td>-0.03864</td><td>0.091911</td><td>-0.017771</td><td>-0.018418</td><td>-0.400784</td><td>-0.085376</td><td>1.767868</td><td>-0.738832</td><td>-7.315161</td><td>2015.156834</td></tr><tr><td>2</td><td>2026188993</td><td>0.995385</td><td>-0.038488</td><td>0.085481</td><td>-0.019409</td><td>0.028376</td><td>-0.582675</td><td>-0.110315</td><td>1.356409</td><td>-0.829007</td><td>-5.797816</td><td>2015.188885</td><td>0.995385</td><td>-0.038488</td><td>0.085481</td><td>-0.019409</td><td>0.028376</td><td>-0.582675</td><td>-0.110315</td><td>1.356409</td><td>-0.829007</td><td>-5.797816</td><td>2015.188885</td></tr><tr><td>3</td><td>2026221639</td><td>0.996127</td><td>-0.038077</td><td>0.076107</td><td>-0.021534</td><td>0.086439</td><td>-0.617606</td><td>-0.118544</td><td>0.8378145</td><td>-0.943933</td><td>-3.8989</td><td>2015.220936</td><td>0.996127</td><td>-0.038077</td><td>0.076107</td><td>-0.021534</td><td>0.086439</td><td>-0.617606</td><td>-0.118544</td><td>0.8378145</td><td>-0.943933</td><td>-3.8989</td><td>2015.220936</td></tr><tr><td>4</td><td>2026251493</td><td>0.9967798</td><td>-0.036448</td><td>0.067136</td><td>-0.023514</td><td>0.1363434</td><td>-0.550215</td><td>-0.091683</td><td>0.65677</td><td>-0.973704</td><td>-2.85828</td><td>2015.252988</td><td>0.9967798</td><td>-0.036448</td><td>0.067136</td><td>-0.023514</td><td>0.1363434</td><td>-0.550215</td><td>-0.091683</td><td>0.65677</td><td>-0.973704</td><td>-2.85828</td><td>2015.252988</td></tr><tr><td>&hellip;</td><td>&hellip;</td><td>&hellip;</td><td>&hellip;</td><td>&hellip;</td><td>&hellip;</td><td>&hellip;</td><td>&hellip;</td><td>&hellip;</td><td>&hellip;</td><td>&hellip;</td><td>&hellip;</td><td>&hellip;</td><td>&hellip;</td><td>&hellip;</td><td>&hellip;</td><td>&hellip;</td><td>&hellip;</td><td>&hellip;</td><td>&hellip;</td><td>&hellip;</td><td>&hellip;</td><td>&hellip;</td><td>&hellip;</td></tr><tr><td>4796</td><td>2185893518</td><td>0.833357</td><td>-0.502267</td><td>0.176753</td><td>-0.148086</td><td>0.6208925</td><td>0.366909</td><td>-0.194304</td><td>5.938025</td><td>-0.697129</td><td>-21.633861</td><td>2174.88994</td><td>0.833357</td><td>-0.502267</td><td>0.176753</td><td>-0.148086</td><td>0.6208925</td><td>0.366909</td><td>-0.194304</td><td>5.938025</td><td>-0.697129</td><td>-21.633861</td><td>2174.88994</td></tr><tr><td>4797</td><td>2185926225</td><td>0.836058</td><td>-0.495003</td><td>0.178637</td><td>-0.155141</td><td>0.275345</td><td>0.34955</td><td>-0.22804</td><td>6.079145</td><td>-1.194224</td><td>-21.815022</td><td>2174.921732</td><td>0.836058</td><td>-0.495003</td><td>0.178637</td><td>-0.155141</td><td>0.275345</td><td>0.34955</td><td>-0.22804</td><td>6.079145</td><td>-1.194224</td><td>-21.815022</td><td>2174.921732</td></tr><tr><td>4798</td><td>2185963519</td><td>0.832548</td><td>-0.497998</td><td>0.181994</td><td>-0.160367</td><td>-0.4365</td><td>0.3592965</td><td>-0.244363</td><td>6.1183809</td><td>-1.000155</td><td>-22.166763</td><td>2174.953524</td><td>0.832548</td><td>-0.497998</td><td>0.181994</td><td>-0.160367</td><td>-0.4365</td><td>0.3592965</td><td>-0.244363</td><td>6.1183809</td><td>-1.000155</td><td>-22.166763</td><td>2174.953524</td></tr><tr><td>4799</td><td>2185996018</td><td>0.829551</td><td>-0.500104</td><td>0.185323</td><td>-0.165439</td><td>-0.272194</td><td>0.354993</td><td>-0.217283</td><td>6.169094</td><td>-0.482033</td><td>-21.737659</td><td>2174.985316</td><td>0.829551</td><td>-0.500104</td><td>0.185323</td><td>-0.165439</td><td>-0.272194</td><td>0.354993</td><td>-0.217283</td><td>6.169094</td><td>-0.482033</td><td>-21.737659</td><td>2174.985316</td></tr><tr><td>4800</td><td>2186013518</td><td>0.828076</td><td>-0.500975</td><td>0.18713</td><td>-0.168157</td><td>0.080097</td><td>0.3535878</td><td>-0.190623</td><td>6.199103</td><td>-0.133137</td><td>-21.343884</td><td>2175.003035</td><td>0.828076</td><td>-0.500975</td><td>0.18713</td><td>-0.168157</td><td>0.080097</td><td>0.3535878</td><td>-0.190623</td><td>6.199103</td><td>-0.133137</td><td>-21.343884</td><td>2175.003035</td></tr></tbody></table></div>"
      ],
      "text/plain": [
       "shape: (4_801, 24)\n",
       "┌──────────┬───────────┬───────────┬───────────┬───┬───────────┬───────────┬───────────┬───────────┐\n",
       "│ frame_id ┆ timestamp ┆ qw        ┆ qx        ┆ … ┆ ax_mDs2_r ┆ ay_mDs2_r ┆ az_mDs2_r ┆ system_ti │\n",
       "│ ---      ┆ ---       ┆ ---       ┆ ---       ┆   ┆ ight      ┆ ight      ┆ ight      ┆ me_s_righ │\n",
       "│ i64      ┆ i64       ┆ f64       ┆ f64       ┆   ┆ ---       ┆ ---       ┆ ---       ┆ t         │\n",
       "│          ┆           ┆           ┆           ┆   ┆ f64       ┆ f64       ┆ f64       ┆ ---       │\n",
       "│          ┆           ┆           ┆           ┆   ┆           ┆           ┆           ┆ f64       │\n",
       "╞══════════╪═══════════╪═══════════╪═══════════╪═══╪═══════════╪═══════════╪═══════════╪═══════════╡\n",
       "│ 0        ┆ 202612660 ┆ 0.994456  ┆ -0.03862  ┆ … ┆ 2.018621  ┆ -0.685786 ┆ -8.26015  ┆ 2015.1247 │\n",
       "│          ┆ 9         ┆           ┆           ┆   ┆           ┆           ┆           ┆ 83        │\n",
       "│ 1        ┆ 202616149 ┆ 0.994851  ┆ -0.03864  ┆ … ┆ 1.767868  ┆ -0.738832 ┆ -7.315161 ┆ 2015.1568 │\n",
       "│          ┆ 3         ┆           ┆           ┆   ┆           ┆           ┆           ┆ 34        │\n",
       "│ 2        ┆ 202618899 ┆ 0.995385  ┆ -0.038488 ┆ … ┆ 1.356409  ┆ -0.829007 ┆ -5.797816 ┆ 2015.1888 │\n",
       "│          ┆ 3         ┆           ┆           ┆   ┆           ┆           ┆           ┆ 85        │\n",
       "│ 3        ┆ 202622163 ┆ 0.996127  ┆ -0.038077 ┆ … ┆ 0.8378145 ┆ -0.943933 ┆ -3.8989   ┆ 2015.2209 │\n",
       "│          ┆ 9         ┆           ┆           ┆   ┆           ┆           ┆           ┆ 36        │\n",
       "│ 4        ┆ 202625149 ┆ 0.9967798 ┆ -0.036448 ┆ … ┆ 0.65677   ┆ -0.973704 ┆ -2.85828  ┆ 2015.2529 │\n",
       "│          ┆ 3         ┆           ┆           ┆   ┆           ┆           ┆           ┆ 88        │\n",
       "│ …        ┆ …         ┆ …         ┆ …         ┆ … ┆ …         ┆ …         ┆ …         ┆ …         │\n",
       "│ 4796     ┆ 218589351 ┆ 0.833357  ┆ -0.502267 ┆ … ┆ 5.938025  ┆ -0.697129 ┆ -21.63386 ┆ 2174.8899 │\n",
       "│          ┆ 8         ┆           ┆           ┆   ┆           ┆           ┆ 1         ┆ 4         │\n",
       "│ 4797     ┆ 218592622 ┆ 0.836058  ┆ -0.495003 ┆ … ┆ 6.079145  ┆ -1.194224 ┆ -21.81502 ┆ 2174.9217 │\n",
       "│          ┆ 5         ┆           ┆           ┆   ┆           ┆           ┆ 2         ┆ 32        │\n",
       "│ 4798     ┆ 218596351 ┆ 0.832548  ┆ -0.497998 ┆ … ┆ 6.1183809 ┆ -1.000155 ┆ -22.16676 ┆ 2174.9535 │\n",
       "│          ┆ 9         ┆           ┆           ┆   ┆           ┆           ┆ 3         ┆ 24        │\n",
       "│ 4799     ┆ 218599601 ┆ 0.829551  ┆ -0.500104 ┆ … ┆ 6.169094  ┆ -0.482033 ┆ -21.73765 ┆ 2174.9853 │\n",
       "│          ┆ 8         ┆           ┆           ┆   ┆           ┆           ┆ 9         ┆ 16        │\n",
       "│ 4800     ┆ 218601351 ┆ 0.828076  ┆ -0.500975 ┆ … ┆ 6.199103  ┆ -0.133137 ┆ -21.34388 ┆ 2175.0030 │\n",
       "│          ┆ 8         ┆           ┆           ┆   ┆           ┆           ┆ 4         ┆ 35        │\n",
       "└──────────┴───────────┴───────────┴───────────┴───┴───────────┴───────────┴───────────┴───────────┘"
      ]
     },
     "execution_count": 10,
     "metadata": {},
     "output_type": "execute_result"
    }
   ],
   "source": [
    "labels_df.join(logs_df, on=\"timestamp\", how=\"inner\")"
   ]
  }
 ],
 "metadata": {
  "kernelspec": {
   "display_name": "edth",
   "language": "python",
   "name": "python3"
  },
  "language_info": {
   "codemirror_mode": {
    "name": "ipython",
    "version": 3
   },
   "file_extension": ".py",
   "mimetype": "text/x-python",
   "name": "python",
   "nbconvert_exporter": "python",
   "pygments_lexer": "ipython3",
   "version": "3.13.5"
  }
 },
 "nbformat": 4,
 "nbformat_minor": 5
}
